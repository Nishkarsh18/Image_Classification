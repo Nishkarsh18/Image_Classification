{
 "cells": [
  {
   "cell_type": "code",
   "execution_count": 1,
   "metadata": {},
   "outputs": [],
   "source": [
    "#Dataset Prep"
   ]
  },
  {
   "cell_type": "code",
   "execution_count": 90,
   "metadata": {},
   "outputs": [],
   "source": [
    "import numpy as np\n",
    "import os\n",
    "from pathlib import Path\n",
    "from keras.preprocessing import image"
   ]
  },
  {
   "cell_type": "code",
   "execution_count": 91,
   "metadata": {},
   "outputs": [],
   "source": [
    "p = Path(\"\")"
   ]
  },
  {
   "cell_type": "code",
   "execution_count": 92,
   "metadata": {},
   "outputs": [
    {
     "name": "stdout",
     "output_type": "stream",
     "text": [
      "[]\n",
      "[]\n",
      "[]\n",
      "[]\n"
     ]
    }
   ],
   "source": [
    "dirs = p.glob(\"*\")\n",
    "labels_dict = {\"cats\":0,\"dogs\":1,\"horses\":2,\"humans\":3}\n",
    "image_data=[]\n",
    "labels=[]\n",
    "for folder_name in dirs:\n",
    "    if str(folder_name) in [\"cats\",'dogs','horses','humans']:\n",
    "        label = str(folder_name).split(\"\\\\\")[:-1][:-1]\n",
    "        print(label)\n",
    "        for img_path in folder_name.glob(\"*.jpg\"):\n",
    "            img=image.load_img(img_path,target_size=(32,32))\n",
    "            img_array=image.img_to_array(img)\n",
    "            image_data.append(img_array)\n",
    "            labels.append(labels_dict[str(folder_name)])\n",
    "            #labels.append"
   ]
  },
  {
   "cell_type": "code",
   "execution_count": 93,
   "metadata": {},
   "outputs": [],
   "source": [
    "image_data=np.array(image_data,dtype='float32')/255.0\n",
    "labels = np.array(labels)"
   ]
  },
  {
   "cell_type": "code",
   "execution_count": 94,
   "metadata": {},
   "outputs": [],
   "source": [
    "#visulatise data"
   ]
  },
  {
   "cell_type": "code",
   "execution_count": 95,
   "metadata": {},
   "outputs": [],
   "source": [
    "def drawing(img):\n",
    "    from matplotlib import pyplot as plt\n",
    "    plt.imshow(img)\n",
    "    return"
   ]
  },
  {
   "cell_type": "code",
   "execution_count": 96,
   "metadata": {},
   "outputs": [
    {
     "data": {
      "image/png": "[encoded data removed]",
      "text/plain": [
       "<Figure size 432x288 with 1 Axes>"
      ]
     },
     "metadata": {
      "needs_background": "light"
     },
     "output_type": "display_data"
    }
   ],
   "source": [
    "drawing(image_data[0])"
   ]
  },
  {
   "cell_type": "code",
   "execution_count": 97,
   "metadata": {},
   "outputs": [],
   "source": [
    "#Shufling the data"
   ]
  },
  {
   "cell_type": "code",
   "execution_count": 98,
   "metadata": {},
   "outputs": [],
   "source": [
    "import random\n",
    "combined =list(zip(image_data,labels))\n",
    "random.shuffle(combined)\n",
    "#unzip\n",
    "image_data[:],labels[:] = zip(*combined)"
   ]
  },
  {
   "cell_type": "code",
   "execution_count": 99,
   "metadata": {},
   "outputs": [
    {
     "data": {
      "image/png": "[encoded data removed]",
      "text/plain": [
       "<Figure size 432x288 with 1 Axes>"
      ]
     },
     "metadata": {
      "needs_background": "light"
     },
     "output_type": "display_data"
    }
   ],
   "source": [
    "drawing(image_data[0])"
   ]
  },
  {
   "cell_type": "code",
   "execution_count": 100,
   "metadata": {},
   "outputs": [],
   "source": [
    "#SVM Classifier"
   ]
  },
  {
   "cell_type": "code",
   "execution_count": 101,
   "metadata": {},
   "outputs": [],
   "source": [
    "#ONE TO ONE"
   ]
  },
  {
   "cell_type": "code",
   "execution_count": 102,
   "metadata": {},
   "outputs": [],
   "source": [
    "class SVM:\n",
    "    def __init__(self,C=1.0):\n",
    "        self.C = C\n",
    "        self.W = 0\n",
    "        self.b = 0\n",
    "        \n",
    "    def hingeLoss(self,W,b,X,Y):\n",
    "        loss  = 0.0\n",
    "        \n",
    "        loss += .5*np.dot(W,W.T)\n",
    "        \n",
    "        m = X.shape[0]\n",
    "        \n",
    "        for i in range(m):\n",
    "            ti = Y[i]*(np.dot(W,X[i].T)+b)\n",
    "            loss += self.C *max(0,(1-ti))        \n",
    "        return loss[0][0]\n",
    "    def fit(self,X,Y,batch_size=50,learning_rate=0.001,maxItr=500):\n",
    "        no_of_features = X.shape[1]\n",
    "        no_of_samples = X.shape[0]\n",
    "        n = learning_rate\n",
    "        c = self.C\n",
    "        W = np.zeros((1,no_of_features))\n",
    "        bias = 0\n",
    "        losses = []\n",
    "        for i in range(maxItr):\n",
    "            l = self.hingeLoss(W,bias,X,Y)\n",
    "            losses.append(l)\n",
    "            ids = np.arange(no_of_samples)\n",
    "            np.random.shuffle(ids)\n",
    "            for batch_start in range(0,no_of_samples,batch_size):\n",
    "                gradw = 0\n",
    "                gradb = 0\n",
    "                for j in range(batch_start,batch_start+batch_size):\n",
    "                    if j<no_of_samples:\n",
    "                        i = ids[j]\n",
    "                        ti =  Y[i]*(np.dot(W,X[i].T)+bias)\n",
    "                        \n",
    "                        if ti>1:\n",
    "                            gradw += 0\n",
    "                            gradb += 0\n",
    "                        else:\n",
    "                            gradw += c*Y[i]*X[i]\n",
    "                            gradb += c*Y[i]\n",
    "                W = W - n*W + n*gradw\n",
    "                bias = bias + n*gradb\n",
    "                \n",
    "        \n",
    "        self.W = W\n",
    "        self.b = bias\n",
    "        return W,bias,losses\n"
   ]
  },
  {
   "cell_type": "code",
   "execution_count": 103,
   "metadata": {},
   "outputs": [],
   "source": [
    "M=image_data.shape[0]\n",
    "image_data=image_data.reshape(M,-1)\n",
    "#flattend every image into a single row\n"
   ]
  },
  {
   "cell_type": "code",
   "execution_count": 104,
   "metadata": {},
   "outputs": [],
   "source": [
    "CLASSES = len(np.unique(labels))"
   ]
  },
  {
   "cell_type": "code",
   "execution_count": 105,
   "metadata": {},
   "outputs": [
    {
     "name": "stdout",
     "output_type": "stream",
     "text": [
      "4\n"
     ]
    }
   ],
   "source": [
    "print(CLASSES)"
   ]
  },
  {
   "cell_type": "code",
   "execution_count": 106,
   "metadata": {},
   "outputs": [],
   "source": [
    "def classWiseData(x,y):\n",
    "    data={}\n",
    "    for i in range(CLASSES):\n",
    "        data[i]=[]\n",
    "    for i in range(x.shape[0]):\n",
    "        data[y[i]].append(x[i])\n",
    "    for k in data.keys():\n",
    "        data[k]=np.array(data[k])\n",
    "    return data"
   ]
  },
  {
   "cell_type": "code",
   "execution_count": 107,
   "metadata": {},
   "outputs": [],
   "source": [
    "data = classWiseData(image_data,labels)"
   ]
  },
  {
   "cell_type": "code",
   "execution_count": 108,
   "metadata": {},
   "outputs": [
    {
     "data": {
      "text/plain": [
       "{0: array([[0.12941177, 0.05490196, 0.        , ..., 0.15294118, 0.21960784,\n",
       "         0.1882353 ],\n",
       "        [0.24705882, 0.21960784, 0.1882353 , ..., 0.69803923, 0.72156864,\n",
       "         0.72156864],\n",
       "        [0.2509804 , 0.2509804 , 0.21960784, ..., 0.7294118 , 0.69803923,\n",
       "         0.6862745 ],\n",
       "        ...,\n",
       "        [0.09019608, 0.12156863, 0.07843138, ..., 0.1764706 , 0.21568628,\n",
       "         0.2509804 ],\n",
       "        [0.99215686, 0.98039216, 0.92156863, ..., 0.80784315, 0.7882353 ,\n",
       "         0.8117647 ],\n",
       "        [0.38431373, 0.4       , 0.40392157, ..., 0.36862746, 0.39215687,\n",
       "         0.4392157 ]], dtype=float32),\n",
       " 1: array([[0.14901961, 0.14509805, 0.13725491, ..., 1.        , 1.        ,\n",
       "         0.8901961 ],\n",
       "        [0.19607843, 0.24705882, 0.27058825, ..., 0.67058825, 0.6313726 ,\n",
       "         0.49411765],\n",
       "        [0.2627451 , 0.25490198, 0.25882354, ..., 0.93333334, 0.8862745 ,\n",
       "         0.9019608 ],\n",
       "        ...,\n",
       "        [0.92156863, 0.8784314 , 0.8627451 , ..., 0.6       , 0.61960787,\n",
       "         0.6431373 ],\n",
       "        [0.03921569, 0.03921569, 0.00784314, ..., 0.49411765, 0.44313726,\n",
       "         0.30588236],\n",
       "        [0.16078432, 0.1882353 , 0.15686275, ..., 0.29803923, 0.23529412,\n",
       "         0.24705882]], dtype=float32),\n",
       " 2: array([[0.3764706 , 0.43137255, 0.3019608 , ..., 0.7647059 , 0.6627451 ,\n",
       "         0.57254905],\n",
       "        [0.02352941, 0.47843137, 0.8745098 , ..., 0.76862746, 0.49019608,\n",
       "         0.30980393],\n",
       "        [0.43137255, 0.36078432, 0.17254902, ..., 0.22745098, 0.19607843,\n",
       "         0.10588235],\n",
       "        ...,\n",
       "        [0.2627451 , 0.25490198, 0.25882354, ..., 0.93333334, 0.8862745 ,\n",
       "         0.9019608 ],\n",
       "        [0.26666668, 0.49411765, 0.74509805, ..., 0.8117647 , 0.64705884,\n",
       "         0.41960785],\n",
       "        [0.23921569, 0.23137255, 0.14901961, ..., 0.48235294, 0.49019608,\n",
       "         0.29803923]], dtype=float32),\n",
       " 3: array([[0.14117648, 0.10980392, 0.10196079, ..., 0.2627451 , 0.12941177,\n",
       "         0.1254902 ],\n",
       "        [0.15294118, 0.1882353 , 0.10588235, ..., 0.5764706 , 0.54509807,\n",
       "         0.5372549 ],\n",
       "        [0.47058824, 0.4509804 , 0.3647059 , ..., 0.34117648, 0.2901961 ,\n",
       "         0.22745098],\n",
       "        ...,\n",
       "        [0.85882354, 0.9019608 , 0.9254902 , ..., 0.49411765, 0.33333334,\n",
       "         0.22352941],\n",
       "        [0.18039216, 0.1882353 , 0.1764706 , ..., 0.16470589, 0.16470589,\n",
       "         0.15686275],\n",
       "        [0.5137255 , 0.5176471 , 0.53333336, ..., 0.5294118 , 0.5254902 ,\n",
       "         0.54901963]], dtype=float32)}"
      ]
     },
     "execution_count": 108,
     "metadata": {},
     "output_type": "execute_result"
    }
   ],
   "source": [
    "data"
   ]
  },
  {
   "cell_type": "code",
   "execution_count": 109,
   "metadata": {},
   "outputs": [],
   "source": [
    "# data[0] ->data of all cat\n",
    "# and so on for every index of data"
   ]
  },
  {
   "cell_type": "code",
   "execution_count": 110,
   "metadata": {},
   "outputs": [],
   "source": [
    "# do classes data combines NC2 times\n",
    "def getDataPairForSVM(d1,d2):\n",
    "    \n",
    "    l1,l2 = d1.shape[0],d2.shape[0]\n",
    "    \n",
    "    samples = l1+l2\n",
    "    features = d1.shape[1]\n",
    "    \n",
    "    data_pair = np.zeros((samples,features))\n",
    "    data_labels = np.zeros((samples,))\n",
    "    \n",
    "    data_pair[:l1,:] = d1\n",
    "    data_pair[l1:,:] = d2\n",
    "    \n",
    "    data_labels[:l1] = -1\n",
    "    data_labels[l1:] = +1\n",
    "    \n",
    "    return data_pair,data_labels\n",
    "    "
   ]
  },
  {
   "cell_type": "code",
   "execution_count": 111,
   "metadata": {},
   "outputs": [],
   "source": [
    "#Training NC2 times training data "
   ]
  },
  {
   "cell_type": "code",
   "execution_count": 112,
   "metadata": {},
   "outputs": [],
   "source": [
    "mySVM = SVM()"
   ]
  },
  {
   "cell_type": "code",
   "execution_count": 113,
   "metadata": {},
   "outputs": [],
   "source": [
    "def trainSVMs(x,y):\n",
    "    svm_classifiers = {}\n",
    "    for i in range(CLASSES):\n",
    "        svm_classifiers[i] = {}\n",
    "        for j in range(i+1,CLASSES):\n",
    "            xpair,ypair = getDataPairForSVM(data[i],data[j])\n",
    "            wts,b,loss = mySVM.fit(xpair,ypair,learning_rate=0.00001,maxItr=1000)\n",
    "            svm_classifiers[i][j] = (wts,b)      \n",
    "    return svm_classifiers"
   ]
  },
  {
   "cell_type": "code",
   "execution_count": 114,
   "metadata": {},
   "outputs": [],
   "source": [
    "svm_classifiers = trainSVMs(image_data,labels)"
   ]
  },
  {
   "cell_type": "code",
   "execution_count": 117,
   "metadata": {},
   "outputs": [],
   "source": [
    "def binaryPredict(x,w,b):\n",
    "    z  = np.dot(x,w.T) + b\n",
    "    if z>=0:\n",
    "        return 1\n",
    "    else:\n",
    "        return -1"
   ]
  },
  {
   "cell_type": "code",
   "execution_count": 120,
   "metadata": {},
   "outputs": [],
   "source": [
    "def predict(x):\n",
    "    \n",
    "    count = np.zeros((CLASSES,))\n",
    "    \n",
    "    for i in range(CLASSES):\n",
    "        for j in range(i+1,CLASSES):\n",
    "            w,b = svm_classifiers[i][j]\n",
    "            #Take a majority prediction \n",
    "            z = binaryPredict(x,w,b)\n",
    "            \n",
    "            if(z==1):\n",
    "                count[j] += 1\n",
    "            else:\n",
    "                count[i] += 1\n",
    "    \n",
    "    final_prediction = np.argmax(count)\n",
    "    #print(count)\n",
    "    return final_prediction"
   ]
  },
  {
   "cell_type": "code",
   "execution_count": 121,
   "metadata": {},
   "outputs": [
    {
     "name": "stdout",
     "output_type": "stream",
     "text": [
      "2\n",
      "2\n"
     ]
    }
   ],
   "source": [
    "#prediction\n",
    "print(predict(image_data[0]))\n",
    "print(labels[0])"
   ]
  },
  {
   "cell_type": "code",
   "execution_count": 123,
   "metadata": {},
   "outputs": [],
   "source": [
    "def accuracy(x,y):\n",
    "    \n",
    "    count = 0\n",
    "    for i in range(x.shape[0]):\n",
    "        prediction = predict(x[i])\n",
    "        if(prediction==y[i]):\n",
    "            count += 1\n",
    "            \n",
    "    return count/x.shape[0]\n"
   ]
  },
  {
   "cell_type": "code",
   "execution_count": 124,
   "metadata": {},
   "outputs": [
    {
     "data": {
      "text/plain": [
       "0.6126237623762376"
      ]
     },
     "execution_count": 124,
     "metadata": {},
     "output_type": "execute_result"
    }
   ],
   "source": [
    "accuracy(image_data,labels)\n"
   ]
  },
  {
   "cell_type": "code",
   "execution_count": 125,
   "metadata": {},
   "outputs": [],
   "source": [
    "#USING SK-LEARN"
   ]
  },
  {
   "cell_type": "code",
   "execution_count": 127,
   "metadata": {},
   "outputs": [],
   "source": [
    "from sklearn import svm\n",
    "svm_classifier = svm.SVC(kernel='linear',C=1.0)\n"
   ]
  },
  {
   "cell_type": "code",
   "execution_count": 128,
   "metadata": {},
   "outputs": [
    {
     "data": {
      "text/plain": [
       "0.6547029702970297"
      ]
     },
     "execution_count": 128,
     "metadata": {},
     "output_type": "execute_result"
    }
   ],
   "source": [
    "svm_classifier.fit(image_data,labels)\n",
    "svm_classifier.score(image_data,labels)\n"
   ]
  },
  {
   "cell_type": "code",
   "execution_count": null,
   "metadata": {},
   "outputs": [],
   "source": []
  }
 ],
 "metadata": {
  "kernelspec": {
   "display_name": "Python 3",
   "language": "python",
   "name": "python3"
  },
  "language_info": {
   "codemirror_mode": {
    "name": "ipython",
    "version": 3
   },
   "file_extension": ".py",
   "mimetype": "text/x-python",
   "name": "python",
   "nbconvert_exporter": "python",
   "pygments_lexer": "ipython3",
   "version": "3.7.3"
  }
 },
 "nbformat": 4,
 "nbformat_minor": 2
}
